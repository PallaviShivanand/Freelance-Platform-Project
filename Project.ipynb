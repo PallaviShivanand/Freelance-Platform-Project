{
 "cells": [
  {
   "cell_type": "code",
   "execution_count": 1,
   "id": "2658f0f0",
   "metadata": {},
   "outputs": [
    {
     "data": {
      "text/html": [
       "<div>\n",
       "<style scoped>\n",
       "    .dataframe tbody tr th:only-of-type {\n",
       "        vertical-align: middle;\n",
       "    }\n",
       "\n",
       "    .dataframe tbody tr th {\n",
       "        vertical-align: top;\n",
       "    }\n",
       "\n",
       "    .dataframe thead th {\n",
       "        text-align: right;\n",
       "    }\n",
       "</style>\n",
       "<table border=\"1\" class=\"dataframe\">\n",
       "  <thead>\n",
       "    <tr style=\"text-align: right;\">\n",
       "      <th></th>\n",
       "      <th>Title</th>\n",
       "      <th>Category Name</th>\n",
       "      <th>Experience</th>\n",
       "      <th>Sub Category Name</th>\n",
       "      <th>Currency</th>\n",
       "      <th>Budget</th>\n",
       "      <th>Location</th>\n",
       "      <th>Freelancer Preferred From</th>\n",
       "      <th>Type</th>\n",
       "      <th>Date Posted</th>\n",
       "      <th>Description</th>\n",
       "      <th>Duration</th>\n",
       "      <th>Client Registration Date</th>\n",
       "      <th>Client City</th>\n",
       "      <th>Client Country</th>\n",
       "      <th>Client Currency</th>\n",
       "      <th>Client Job Title</th>\n",
       "    </tr>\n",
       "  </thead>\n",
       "  <tbody>\n",
       "    <tr>\n",
       "      <th>0</th>\n",
       "      <td>Banner images for web desgin websites</td>\n",
       "      <td>Design</td>\n",
       "      <td>Entry ($)</td>\n",
       "      <td>Graphic Design</td>\n",
       "      <td>EUR</td>\n",
       "      <td>60.0</td>\n",
       "      <td>remote</td>\n",
       "      <td>ALL</td>\n",
       "      <td>fixed_price</td>\n",
       "      <td>2023-04-29 18:06:39</td>\n",
       "      <td>We are looking to improve the banner images on...</td>\n",
       "      <td>NaN</td>\n",
       "      <td>2010-11-03</td>\n",
       "      <td>Dublin</td>\n",
       "      <td>Ireland</td>\n",
       "      <td>EUR</td>\n",
       "      <td>PPC Management</td>\n",
       "    </tr>\n",
       "    <tr>\n",
       "      <th>1</th>\n",
       "      <td>Make my picture a solid silhouette</td>\n",
       "      <td>Video, Photo &amp; Image</td>\n",
       "      <td>Entry ($)</td>\n",
       "      <td>Image Editing</td>\n",
       "      <td>GBP</td>\n",
       "      <td>20.0</td>\n",
       "      <td>remote</td>\n",
       "      <td>ALL</td>\n",
       "      <td>fixed_price</td>\n",
       "      <td>2023-04-29 17:40:28</td>\n",
       "      <td>Hello \\n\\nI need a quick designer to make 4 pi...</td>\n",
       "      <td>NaN</td>\n",
       "      <td>2017-02-21</td>\n",
       "      <td>London</td>\n",
       "      <td>United Kingdom</td>\n",
       "      <td>GBP</td>\n",
       "      <td>Office manager</td>\n",
       "    </tr>\n",
       "    <tr>\n",
       "      <th>2</th>\n",
       "      <td>Bookkeeper needed</td>\n",
       "      <td>Business</td>\n",
       "      <td>Entry ($)</td>\n",
       "      <td>Finance &amp; Accounting</td>\n",
       "      <td>GBP</td>\n",
       "      <td>12.0</td>\n",
       "      <td>remote</td>\n",
       "      <td>ALL</td>\n",
       "      <td>fixed_price</td>\n",
       "      <td>2023-04-29 17:40:06</td>\n",
       "      <td>Hi - I need a bookkeeper to assist with bookke...</td>\n",
       "      <td>NaN</td>\n",
       "      <td>2023-04-09</td>\n",
       "      <td>London</td>\n",
       "      <td>United Kingdom</td>\n",
       "      <td>GBP</td>\n",
       "      <td>Paralegal</td>\n",
       "    </tr>\n",
       "    <tr>\n",
       "      <th>3</th>\n",
       "      <td>Accountant needed</td>\n",
       "      <td>Business</td>\n",
       "      <td>Entry ($)</td>\n",
       "      <td>Tax Consulting &amp; Advising</td>\n",
       "      <td>GBP</td>\n",
       "      <td>14.0</td>\n",
       "      <td>remote</td>\n",
       "      <td>ALL</td>\n",
       "      <td>fixed_price</td>\n",
       "      <td>2023-04-29 17:32:01</td>\n",
       "      <td>Hi - I need an accountant to assist me with un...</td>\n",
       "      <td>NaN</td>\n",
       "      <td>2023-04-09</td>\n",
       "      <td>London</td>\n",
       "      <td>United Kingdom</td>\n",
       "      <td>GBP</td>\n",
       "      <td>Paralegal</td>\n",
       "    </tr>\n",
       "    <tr>\n",
       "      <th>4</th>\n",
       "      <td>Guest Post on High DA Website</td>\n",
       "      <td>Digital Marketing</td>\n",
       "      <td>Expert ($$$)</td>\n",
       "      <td>SEO</td>\n",
       "      <td>USD</td>\n",
       "      <td>10000.0</td>\n",
       "      <td>remote</td>\n",
       "      <td>ALL</td>\n",
       "      <td>fixed_price</td>\n",
       "      <td>2023-04-29 17:09:36</td>\n",
       "      <td>Hi, I am currently running a project where I w...</td>\n",
       "      <td>NaN</td>\n",
       "      <td>2016-07-01</td>\n",
       "      <td>Mumbai</td>\n",
       "      <td>India</td>\n",
       "      <td>USD</td>\n",
       "      <td>Guest posts buyer</td>\n",
       "    </tr>\n",
       "  </tbody>\n",
       "</table>\n",
       "</div>"
      ],
      "text/plain": [
       "                                   Title         Category Name    Experience  \\\n",
       "0  Banner images for web desgin websites                Design     Entry ($)   \n",
       "1    Make my picture a solid silhouette   Video, Photo & Image     Entry ($)   \n",
       "2                      Bookkeeper needed              Business     Entry ($)   \n",
       "3                     Accountant needed               Business     Entry ($)   \n",
       "4          Guest Post on High DA Website     Digital Marketing  Expert ($$$)   \n",
       "\n",
       "           Sub Category Name Currency   Budget Location  \\\n",
       "0             Graphic Design      EUR     60.0   remote   \n",
       "1              Image Editing      GBP     20.0   remote   \n",
       "2       Finance & Accounting      GBP     12.0   remote   \n",
       "3  Tax Consulting & Advising      GBP     14.0   remote   \n",
       "4                        SEO      USD  10000.0   remote   \n",
       "\n",
       "  Freelancer Preferred From         Type          Date Posted  \\\n",
       "0                       ALL  fixed_price  2023-04-29 18:06:39   \n",
       "1                       ALL  fixed_price  2023-04-29 17:40:28   \n",
       "2                       ALL  fixed_price  2023-04-29 17:40:06   \n",
       "3                       ALL  fixed_price  2023-04-29 17:32:01   \n",
       "4                       ALL  fixed_price  2023-04-29 17:09:36   \n",
       "\n",
       "                                         Description Duration  \\\n",
       "0  We are looking to improve the banner images on...      NaN   \n",
       "1  Hello \\n\\nI need a quick designer to make 4 pi...      NaN   \n",
       "2  Hi - I need a bookkeeper to assist with bookke...      NaN   \n",
       "3  Hi - I need an accountant to assist me with un...      NaN   \n",
       "4  Hi, I am currently running a project where I w...      NaN   \n",
       "\n",
       "  Client Registration Date Client City  Client Country Client Currency  \\\n",
       "0               2010-11-03      Dublin         Ireland             EUR   \n",
       "1               2017-02-21      London  United Kingdom             GBP   \n",
       "2               2023-04-09      London  United Kingdom             GBP   \n",
       "3               2023-04-09      London  United Kingdom             GBP   \n",
       "4               2016-07-01      Mumbai           India             USD   \n",
       "\n",
       "    Client Job Title  \n",
       "0     PPC Management  \n",
       "1     Office manager  \n",
       "2          Paralegal  \n",
       "3          Paralegal  \n",
       "4  Guest posts buyer  "
      ]
     },
     "execution_count": 1,
     "metadata": {},
     "output_type": "execute_result"
    }
   ],
   "source": [
    "# importing libraries required\n",
    "import pandas as pd\n",
    "import numpy as np\n",
    "import matplotlib.pyplot as plt \n",
    "import seaborn as sns \n",
    "# read the dataset \n",
    "df = pd.read_csv('freelance_platform_project.csv')\n",
    "# display first 5 rows/data\n",
    "df.head()"
   ]
  },
  {
   "cell_type": "markdown",
   "id": "5f2052ad",
   "metadata": {},
   "source": [
    "# Perform necessary EDA on the data"
   ]
  },
  {
   "cell_type": "code",
   "execution_count": 2,
   "id": "d02ae844",
   "metadata": {},
   "outputs": [
    {
     "data": {
      "text/plain": [
       "Title                            0\n",
       "Category Name                    0\n",
       "Experience                       0\n",
       "Sub Category Name                0\n",
       "Currency                         0\n",
       "Budget                           0\n",
       "Location                         0\n",
       "Freelancer Preferred From        0\n",
       "Type                             0\n",
       "Date Posted                      0\n",
       "Description                      0\n",
       "Duration                     10620\n",
       "Client Registration Date         0\n",
       "Client City                      0\n",
       "Client Country                   0\n",
       "Client Currency                  0\n",
       "Client Job Title              7634\n",
       "dtype: int64"
      ]
     },
     "execution_count": 2,
     "metadata": {},
     "output_type": "execute_result"
    }
   ],
   "source": [
    "# check missing values\n",
    "df.isna().sum()"
   ]
  },
  {
   "cell_type": "code",
   "execution_count": 3,
   "id": "19a37a19",
   "metadata": {},
   "outputs": [
    {
     "data": {
      "text/plain": [
       "(12222, 17)"
      ]
     },
     "execution_count": 3,
     "metadata": {},
     "output_type": "execute_result"
    }
   ],
   "source": [
    "# check number of rows and columns present\n",
    "df.shape"
   ]
  },
  {
   "cell_type": "code",
   "execution_count": 4,
   "id": "88140a1a",
   "metadata": {},
   "outputs": [
    {
     "data": {
      "text/plain": [
       "Index(['Title', 'Category Name', 'Experience', 'Sub Category Name', 'Currency',\n",
       "       'Budget', 'Location', 'Freelancer Preferred From', 'Type',\n",
       "       'Description', 'Client City', 'Client Country', 'Client Currency'],\n",
       "      dtype='object')"
      ]
     },
     "execution_count": 4,
     "metadata": {},
     "output_type": "execute_result"
    }
   ],
   "source": [
    "# Remove or delete rows which are not required for prediction\n",
    "df.drop(columns=['Duration','Client Job Title','Date Posted','Client Registration Date'], axis=1,inplace=True)\n",
    "df.columns"
   ]
  },
  {
   "cell_type": "raw",
   "id": "66be5562",
   "metadata": {},
   "source": [
    "df['Location'].value_counts()"
   ]
  },
  {
   "cell_type": "raw",
   "id": "5e7f65f2",
   "metadata": {},
   "source": [
    "df['Currency'].value_counts()"
   ]
  },
  {
   "cell_type": "raw",
   "id": "9061f2d2",
   "metadata": {},
   "source": [
    "df['Type'].value_counts()"
   ]
  },
  {
   "cell_type": "raw",
   "id": "f45f4abe",
   "metadata": {},
   "source": [
    "df['Experience'].value_counts()"
   ]
  },
  {
   "cell_type": "raw",
   "id": "d922ce5f",
   "metadata": {},
   "source": [
    "df['Category Name'].value_counts()"
   ]
  },
  {
   "cell_type": "raw",
   "id": "1d37a8b9",
   "metadata": {},
   "source": [
    "df['Sub Category Name'].value_counts()"
   ]
  },
  {
   "cell_type": "code",
   "execution_count": 5,
   "id": "0a1a6af0",
   "metadata": {},
   "outputs": [
    {
     "data": {
      "text/plain": [
       "Title                         object\n",
       "Category Name                 object\n",
       "Experience                    object\n",
       "Sub Category Name             object\n",
       "Currency                      object\n",
       "Budget                       float64\n",
       "Location                      object\n",
       "Freelancer Preferred From     object\n",
       "Type                          object\n",
       "Description                   object\n",
       "Client City                   object\n",
       "Client Country                object\n",
       "Client Currency               object\n",
       "dtype: object"
      ]
     },
     "execution_count": 5,
     "metadata": {},
     "output_type": "execute_result"
    }
   ],
   "source": [
    "df.dtypes"
   ]
  },
  {
   "cell_type": "markdown",
   "id": "edd710ff",
   "metadata": {},
   "source": [
    "## categorical data encoding"
   ]
  },
  {
   "cell_type": "code",
   "execution_count": 6,
   "id": "3e66dad1",
   "metadata": {},
   "outputs": [
    {
     "data": {
      "text/plain": [
       "Index(['Title', 'Category Name', 'Experience', 'Sub Category Name', 'Currency',\n",
       "       'Location', 'Freelancer Preferred From', 'Type', 'Description',\n",
       "       'Client City', 'Client Country', 'Client Currency'],\n",
       "      dtype='object')"
      ]
     },
     "execution_count": 6,
     "metadata": {},
     "output_type": "execute_result"
    }
   ],
   "source": [
    "# Select all the object columns\n",
    "obj_cols = df.select_dtypes('object').columns\n",
    "obj_cols"
   ]
  },
  {
   "cell_type": "code",
   "execution_count": 7,
   "id": "90287e2d",
   "metadata": {},
   "outputs": [
    {
     "data": {
      "text/plain": [
       "Title                          int32\n",
       "Category Name                  int32\n",
       "Experience                     int32\n",
       "Sub Category Name              int32\n",
       "Currency                       int32\n",
       "Budget                       float64\n",
       "Location                       int32\n",
       "Freelancer Preferred From      int32\n",
       "Type                           int32\n",
       "Description                    int32\n",
       "Client City                    int32\n",
       "Client Country                 int32\n",
       "Client Currency                int32\n",
       "dtype: object"
      ]
     },
     "execution_count": 7,
     "metadata": {},
     "output_type": "execute_result"
    }
   ],
   "source": [
    "# Encoding object columns\n",
    "from sklearn.preprocessing import LabelEncoder\n",
    "\n",
    "encoder = LabelEncoder()\n",
    "for i in obj_cols:\n",
    "    df[i]=encoder.fit_transform(df[i])\n",
    "    \n",
    "df.dtypes"
   ]
  },
  {
   "cell_type": "code",
   "execution_count": 8,
   "id": "3849a900",
   "metadata": {},
   "outputs": [
    {
     "data": {
      "text/plain": [
       "0"
      ]
     },
     "execution_count": 8,
     "metadata": {},
     "output_type": "execute_result"
    }
   ],
   "source": [
    "df['Budget'].isna().sum()"
   ]
  },
  {
   "cell_type": "markdown",
   "id": "d6cfa6cd",
   "metadata": {},
   "source": [
    "## Finding and handling outliers"
   ]
  },
  {
   "cell_type": "code",
   "execution_count": 9,
   "id": "e0d29e1e",
   "metadata": {},
   "outputs": [
    {
     "data": {
      "image/png": "[encoded data removed]",
      "text/plain": [
       "<Figure size 640x480 with 1 Axes>"
      ]
     },
     "metadata": {},
     "output_type": "display_data"
    }
   ],
   "source": [
    "# Check for outliers using boxplot\n",
    "import seaborn as sns\n",
    "import matplotlib.pyplot as plt\n",
    "\n",
    "sns.boxplot(df['Budget'])\n",
    "plt.show()"
   ]
  },
  {
   "cell_type": "markdown",
   "id": "c551fead",
   "metadata": {},
   "source": [
    "## Handling Skewness"
   ]
  },
  {
   "cell_type": "code",
   "execution_count": 10,
   "id": "1d031b2f",
   "metadata": {},
   "outputs": [
    {
     "name": "stdout",
     "output_type": "stream",
     "text": [
      "42.45018768791635\n"
     ]
    }
   ],
   "source": [
    "# Check for skewness if any\n",
    "from scipy.stats import skew\n",
    "\n",
    "print(skew(df['Budget']))"
   ]
  },
  {
   "cell_type": "code",
   "execution_count": 11,
   "id": "0679a33d",
   "metadata": {},
   "outputs": [
    {
     "data": {
      "text/plain": [
       "0.08963714178695215"
      ]
     },
     "execution_count": 11,
     "metadata": {},
     "output_type": "execute_result"
    }
   ],
   "source": [
    "# Reduce skewness using Box-cox transformation\n",
    "from scipy.stats import boxcox\n",
    "\n",
    "# Add a small constant to handle zero values in the column\n",
    "df['Budget'] = df['Budget'] + 1e-3\n",
    "\n",
    "# Apply Box-Cox transformation\n",
    "df['Budget'] = boxcox(df['Budget'])[0]\n",
    "\n",
    "# Check skewness\n",
    "df['Budget'].skew()"
   ]
  },
  {
   "cell_type": "code",
   "execution_count": 12,
   "id": "2f2445d9",
   "metadata": {},
   "outputs": [
    {
     "data": {
      "image/png": "[encoded data removed]",
      "text/plain": [
       "<Figure size 640x480 with 1 Axes>"
      ]
     },
     "metadata": {},
     "output_type": "display_data"
    }
   ],
   "source": [
    "# Checking if there are any outliers present\n",
    "sns.boxplot(df['Budget'])\n",
    "plt.show()"
   ]
  },
  {
   "cell_type": "code",
   "execution_count": 13,
   "id": "281ce793",
   "metadata": {},
   "outputs": [
    {
     "data": {
      "image/png": "[encoded data removed]",
      "text/plain": [
       "<Figure size 640x480 with 1 Axes>"
      ]
     },
     "metadata": {},
     "output_type": "display_data"
    }
   ],
   "source": [
    "plt.hist(df['Budget'])\n",
    "plt.show()"
   ]
  },
  {
   "cell_type": "markdown",
   "id": "b9d2a3e7",
   "metadata": {},
   "source": [
    "## Using IQR replacing outliers with upper/lower fence\n",
    "1. sort the data\n",
    "2. calculate Q1(25%) and Q3(75%)\n",
    "3. IQR=Q3-Q1\n",
    "4. Find lower fence (Q1-1.5(IQR))\n",
    "5. Find upper fence (Q3+1.5(IQR))"
   ]
  },
  {
   "cell_type": "code",
   "execution_count": 14,
   "id": "aef853f4",
   "metadata": {},
   "outputs": [],
   "source": [
    "data=df['Budget']\n",
    "# sort the data\n",
    "data = sorted(data)"
   ]
  },
  {
   "cell_type": "code",
   "execution_count": 15,
   "id": "ce8e3309",
   "metadata": {},
   "outputs": [
    {
     "name": "stdout",
     "output_type": "stream",
     "text": [
      "3.624869809500638 5.506003840516138\n"
     ]
    }
   ],
   "source": [
    "# finding Q1(25%) and Q3(75%)\n",
    "q1, q3 = np.percentile(data,[25,75])\n",
    "print(q1,q3)"
   ]
  },
  {
   "cell_type": "code",
   "execution_count": 16,
   "id": "73fb3959",
   "metadata": {},
   "outputs": [],
   "source": [
    "# calculate IQR, upper boundary and lower boundary\n",
    "iqr = q3-q1\n",
    "lower_fence = q1-(1.5*iqr)\n",
    "upper_fence = q3+(1.5*iqr)"
   ]
  },
  {
   "cell_type": "code",
   "execution_count": 17,
   "id": "a4ad42d7",
   "metadata": {},
   "outputs": [],
   "source": [
    "# Replacing values which are present outside the lower boundary with lower boundary value\n",
    "# and values present outside the upper boundary with upper boundary value\n",
    "for i in df.index:\n",
    "    if (df.loc[i,'Budget']>upper_fence):\n",
    "        df.loc[i,'Budget']=upper_fence\n",
    "    elif (df.loc[i,'Budget']<lower_fence):\n",
    "        df.loc[i,'Budget']=lower_fence"
   ]
  },
  {
   "cell_type": "code",
   "execution_count": 18,
   "id": "f5b2b311",
   "metadata": {},
   "outputs": [
    {
     "data": {
      "image/png": "[encoded data removed]",
      "text/plain": [
       "<Figure size 640x480 with 1 Axes>"
      ]
     },
     "metadata": {},
     "output_type": "display_data"
    }
   ],
   "source": [
    "# Checking if there still any outliers present\n",
    "sns.boxplot(df['Budget'])\n",
    "plt.show()"
   ]
  },
  {
   "cell_type": "code",
   "execution_count": 19,
   "id": "2b275992",
   "metadata": {},
   "outputs": [
    {
     "data": {
      "image/png": "[encoded data removed]",
      "text/plain": [
       "<Figure size 640x480 with 1 Axes>"
      ]
     },
     "metadata": {},
     "output_type": "display_data"
    }
   ],
   "source": [
    "plt.hist(df['Budget'])\n",
    "plt.show()"
   ]
  },
  {
   "cell_type": "code",
   "execution_count": 20,
   "id": "fb7c58f3",
   "metadata": {},
   "outputs": [
    {
     "data": {
      "text/plain": [
       "4.694033454731113"
      ]
     },
     "execution_count": 20,
     "metadata": {},
     "output_type": "execute_result"
    }
   ],
   "source": [
    "# Check for normal distribution by calculating mean, median and mode. \n",
    "# If mean, median and mode are almost same then distribution could be symmetric, and possibly normal\n",
    "df['Budget'].mean()"
   ]
  },
  {
   "cell_type": "code",
   "execution_count": 21,
   "id": "b81f6e82",
   "metadata": {},
   "outputs": [
    {
     "data": {
      "text/plain": [
       "4.757891484639088"
      ]
     },
     "execution_count": 21,
     "metadata": {},
     "output_type": "execute_result"
    }
   ],
   "source": [
    "df['Budget'].median()"
   ]
  },
  {
   "cell_type": "code",
   "execution_count": 22,
   "id": "84947439",
   "metadata": {},
   "outputs": [
    {
     "data": {
      "text/plain": [
       "0    5.021463\n",
       "Name: Budget, dtype: float64"
      ]
     },
     "execution_count": 22,
     "metadata": {},
     "output_type": "execute_result"
    }
   ],
   "source": [
    "df['Budget'].mode()"
   ]
  },
  {
   "cell_type": "markdown",
   "id": "f43e3828",
   "metadata": {},
   "source": [
    "## Scaling"
   ]
  },
  {
   "cell_type": "code",
   "execution_count": 23,
   "id": "76c32503",
   "metadata": {},
   "outputs": [],
   "source": [
    "# Scaling all the columns by MinMaxScaler \n",
    "# for each column in dataframe, it scales the values in that column to be between 0 and 1.\n",
    "from sklearn.preprocessing import MinMaxScaler\n",
    "\n",
    "mx = MinMaxScaler()\n",
    "for col in df:\n",
    "    df[col] = mx.fit_transform(df[[col]])"
   ]
  },
  {
   "cell_type": "code",
   "execution_count": 24,
   "id": "6c4d16de",
   "metadata": {},
   "outputs": [
    {
     "data": {
      "text/html": [
       "<div>\n",
       "<style scoped>\n",
       "    .dataframe tbody tr th:only-of-type {\n",
       "        vertical-align: middle;\n",
       "    }\n",
       "\n",
       "    .dataframe tbody tr th {\n",
       "        vertical-align: top;\n",
       "    }\n",
       "\n",
       "    .dataframe thead th {\n",
       "        text-align: right;\n",
       "    }\n",
       "</style>\n",
       "<table border=\"1\" class=\"dataframe\">\n",
       "  <thead>\n",
       "    <tr style=\"text-align: right;\">\n",
       "      <th></th>\n",
       "      <th>Title</th>\n",
       "      <th>Category Name</th>\n",
       "      <th>Experience</th>\n",
       "      <th>Sub Category Name</th>\n",
       "      <th>Currency</th>\n",
       "      <th>Budget</th>\n",
       "      <th>Location</th>\n",
       "      <th>Freelancer Preferred From</th>\n",
       "      <th>Type</th>\n",
       "      <th>Description</th>\n",
       "      <th>Client City</th>\n",
       "      <th>Client Country</th>\n",
       "      <th>Client Currency</th>\n",
       "    </tr>\n",
       "  </thead>\n",
       "  <tbody>\n",
       "    <tr>\n",
       "      <th>0</th>\n",
       "      <td>0.083650</td>\n",
       "      <td>0.125</td>\n",
       "      <td>0.0</td>\n",
       "      <td>0.396226</td>\n",
       "      <td>0.0</td>\n",
       "      <td>0.480843</td>\n",
       "      <td>0.5</td>\n",
       "      <td>0.02439</td>\n",
       "      <td>0.0</td>\n",
       "      <td>0.875042</td>\n",
       "      <td>0.270614</td>\n",
       "      <td>0.451852</td>\n",
       "      <td>0.0</td>\n",
       "    </tr>\n",
       "    <tr>\n",
       "      <th>1</th>\n",
       "      <td>0.550501</td>\n",
       "      <td>0.875</td>\n",
       "      <td>0.0</td>\n",
       "      <td>0.424528</td>\n",
       "      <td>0.5</td>\n",
       "      <td>0.314335</td>\n",
       "      <td>0.5</td>\n",
       "      <td>0.02439</td>\n",
       "      <td>0.0</td>\n",
       "      <td>0.104579</td>\n",
       "      <td>0.520199</td>\n",
       "      <td>0.955556</td>\n",
       "      <td>0.5</td>\n",
       "    </tr>\n",
       "    <tr>\n",
       "      <th>2</th>\n",
       "      <td>0.095649</td>\n",
       "      <td>0.000</td>\n",
       "      <td>0.0</td>\n",
       "      <td>0.349057</td>\n",
       "      <td>0.5</td>\n",
       "      <td>0.239195</td>\n",
       "      <td>0.5</td>\n",
       "      <td>0.02439</td>\n",
       "      <td>0.0</td>\n",
       "      <td>0.182741</td>\n",
       "      <td>0.520199</td>\n",
       "      <td>0.955556</td>\n",
       "      <td>0.5</td>\n",
       "    </tr>\n",
       "    <tr>\n",
       "      <th>3</th>\n",
       "      <td>0.040314</td>\n",
       "      <td>0.000</td>\n",
       "      <td>0.0</td>\n",
       "      <td>0.849057</td>\n",
       "      <td>0.5</td>\n",
       "      <td>0.261720</td>\n",
       "      <td>0.5</td>\n",
       "      <td>0.02439</td>\n",
       "      <td>0.0</td>\n",
       "      <td>0.182908</td>\n",
       "      <td>0.520199</td>\n",
       "      <td>0.955556</td>\n",
       "      <td>0.5</td>\n",
       "    </tr>\n",
       "    <tr>\n",
       "      <th>4</th>\n",
       "      <td>0.333132</td>\n",
       "      <td>0.250</td>\n",
       "      <td>0.5</td>\n",
       "      <td>0.716981</td>\n",
       "      <td>1.0</td>\n",
       "      <td>1.000000</td>\n",
       "      <td>0.5</td>\n",
       "      <td>0.02439</td>\n",
       "      <td>0.0</td>\n",
       "      <td>0.253606</td>\n",
       "      <td>0.597122</td>\n",
       "      <td>0.429630</td>\n",
       "      <td>1.0</td>\n",
       "    </tr>\n",
       "  </tbody>\n",
       "</table>\n",
       "</div>"
      ],
      "text/plain": [
       "      Title  Category Name  Experience  Sub Category Name  Currency    Budget  \\\n",
       "0  0.083650          0.125         0.0           0.396226       0.0  0.480843   \n",
       "1  0.550501          0.875         0.0           0.424528       0.5  0.314335   \n",
       "2  0.095649          0.000         0.0           0.349057       0.5  0.239195   \n",
       "3  0.040314          0.000         0.0           0.849057       0.5  0.261720   \n",
       "4  0.333132          0.250         0.5           0.716981       1.0  1.000000   \n",
       "\n",
       "   Location  Freelancer Preferred From  Type  Description  Client City  \\\n",
       "0       0.5                    0.02439   0.0     0.875042     0.270614   \n",
       "1       0.5                    0.02439   0.0     0.104579     0.520199   \n",
       "2       0.5                    0.02439   0.0     0.182741     0.520199   \n",
       "3       0.5                    0.02439   0.0     0.182908     0.520199   \n",
       "4       0.5                    0.02439   0.0     0.253606     0.597122   \n",
       "\n",
       "   Client Country  Client Currency  \n",
       "0        0.451852              0.0  \n",
       "1        0.955556              0.5  \n",
       "2        0.955556              0.5  \n",
       "3        0.955556              0.5  \n",
       "4        0.429630              1.0  "
      ]
     },
     "execution_count": 24,
     "metadata": {},
     "output_type": "execute_result"
    }
   ],
   "source": [
    "df.head()"
   ]
  },
  {
   "cell_type": "code",
   "execution_count": 25,
   "id": "ec8a77c1",
   "metadata": {},
   "outputs": [
    {
     "data": {
      "text/plain": [
       "0.5170903066451495"
      ]
     },
     "execution_count": 25,
     "metadata": {},
     "output_type": "execute_result"
    }
   ],
   "source": [
    "df['Budget'].mean()"
   ]
  },
  {
   "cell_type": "code",
   "execution_count": 26,
   "id": "63313175",
   "metadata": {},
   "outputs": [
    {
     "data": {
      "text/plain": [
       "0.5255769467323397"
      ]
     },
     "execution_count": 26,
     "metadata": {},
     "output_type": "execute_result"
    }
   ],
   "source": [
    "df['Budget'].median()"
   ]
  },
  {
   "cell_type": "markdown",
   "id": "30e8f7d2",
   "metadata": {},
   "source": [
    " # Create a regression model to predict the budget"
   ]
  },
  {
   "cell_type": "code",
   "execution_count": 27,
   "id": "3837451d",
   "metadata": {},
   "outputs": [],
   "source": [
    "# x= all the columns in df except Budget(indepent variables)\n",
    "# y= budget column(dependent variables/target)\n",
    "x = df.drop(columns=['Budget'])\n",
    "y = df['Budget']"
   ]
  },
  {
   "cell_type": "code",
   "execution_count": 28,
   "id": "59df06d7",
   "metadata": {},
   "outputs": [],
   "source": [
    "# Split whole dataset into train and test data\n",
    "from sklearn.model_selection import train_test_split\n",
    "\n",
    "xtrain, xtest, ytrain, ytest = train_test_split(x,y, train_size=0.8, random_state = 4)\n",
    "# train_size parameter is set to 0.8, i.e., 80% of the data will be used for training the model, \n",
    "# and the remaining 20% will be used for testing\n",
    "# random_state value ensures we’ll get the same split in future."
   ]
  },
  {
   "cell_type": "markdown",
   "id": "f157421b",
   "metadata": {},
   "source": [
    "## Linear Regression"
   ]
  },
  {
   "cell_type": "code",
   "execution_count": 29,
   "id": "403218ef",
   "metadata": {},
   "outputs": [
    {
     "data": {
      "text/plain": [
       "array([0.68646062, 0.49649786, 0.50711877, 0.43805084, 0.69312907])"
      ]
     },
     "execution_count": 29,
     "metadata": {},
     "output_type": "execute_result"
    }
   ],
   "source": [
    "from sklearn.linear_model import LinearRegression\n",
    "\n",
    "model = LinearRegression()\n",
    "model.fit(xtrain, ytrain)\n",
    "trainpred = model.predict(xtrain)\n",
    "trainpred[:5]"
   ]
  },
  {
   "cell_type": "code",
   "execution_count": 30,
   "id": "004406cb",
   "metadata": {},
   "outputs": [
    {
     "data": {
      "text/plain": [
       "array([0.46115279, 0.57622865, 0.35988444, 0.29627396, 0.56626993])"
      ]
     },
     "execution_count": 30,
     "metadata": {},
     "output_type": "execute_result"
    }
   ],
   "source": [
    "testpred = model.predict(xtest)\n",
    "testpred[:5]"
   ]
  },
  {
   "cell_type": "code",
   "execution_count": 31,
   "id": "ad01c199",
   "metadata": {},
   "outputs": [
    {
     "data": {
      "text/plain": [
       "0.021686143303817323"
      ]
     },
     "execution_count": 31,
     "metadata": {},
     "output_type": "execute_result"
    }
   ],
   "source": [
    "from sklearn.metrics import mean_squared_error\n",
    "\n",
    "mse_train = mean_squared_error(ytrain,trainpred)\n",
    "mse_train"
   ]
  },
  {
   "cell_type": "code",
   "execution_count": 32,
   "id": "2b8888b0",
   "metadata": {},
   "outputs": [
    {
     "data": {
      "text/plain": [
       "0.021936815597932896"
      ]
     },
     "execution_count": 32,
     "metadata": {},
     "output_type": "execute_result"
    }
   ],
   "source": [
    "mse_test = mean_squared_error(ytest,testpred)\n",
    "mse_test"
   ]
  },
  {
   "cell_type": "markdown",
   "id": "fd352236",
   "metadata": {},
   "source": [
    "## Polynomial Regression"
   ]
  },
  {
   "cell_type": "code",
   "execution_count": 33,
   "id": "1696128d",
   "metadata": {},
   "outputs": [
    {
     "data": {
      "text/html": [
       "<div>\n",
       "<style scoped>\n",
       "    .dataframe tbody tr th:only-of-type {\n",
       "        vertical-align: middle;\n",
       "    }\n",
       "\n",
       "    .dataframe tbody tr th {\n",
       "        vertical-align: top;\n",
       "    }\n",
       "\n",
       "    .dataframe thead th {\n",
       "        text-align: right;\n",
       "    }\n",
       "</style>\n",
       "<table border=\"1\" class=\"dataframe\">\n",
       "  <thead>\n",
       "    <tr style=\"text-align: right;\">\n",
       "      <th></th>\n",
       "      <th>Title</th>\n",
       "      <th>Category Name</th>\n",
       "      <th>Experience</th>\n",
       "      <th>Sub Category Name</th>\n",
       "      <th>Currency</th>\n",
       "      <th>Budget</th>\n",
       "      <th>Location</th>\n",
       "      <th>Freelancer Preferred From</th>\n",
       "      <th>Type</th>\n",
       "      <th>Description</th>\n",
       "      <th>Client City</th>\n",
       "      <th>Client Country</th>\n",
       "      <th>Client Currency</th>\n",
       "    </tr>\n",
       "  </thead>\n",
       "  <tbody>\n",
       "    <tr>\n",
       "      <th>0</th>\n",
       "      <td>0.083650</td>\n",
       "      <td>0.125</td>\n",
       "      <td>0.0</td>\n",
       "      <td>0.396226</td>\n",
       "      <td>0.0</td>\n",
       "      <td>0.480843</td>\n",
       "      <td>0.5</td>\n",
       "      <td>0.02439</td>\n",
       "      <td>0.0</td>\n",
       "      <td>0.875042</td>\n",
       "      <td>0.270614</td>\n",
       "      <td>0.451852</td>\n",
       "      <td>0.0</td>\n",
       "    </tr>\n",
       "    <tr>\n",
       "      <th>1</th>\n",
       "      <td>0.550501</td>\n",
       "      <td>0.875</td>\n",
       "      <td>0.0</td>\n",
       "      <td>0.424528</td>\n",
       "      <td>0.5</td>\n",
       "      <td>0.314335</td>\n",
       "      <td>0.5</td>\n",
       "      <td>0.02439</td>\n",
       "      <td>0.0</td>\n",
       "      <td>0.104579</td>\n",
       "      <td>0.520199</td>\n",
       "      <td>0.955556</td>\n",
       "      <td>0.5</td>\n",
       "    </tr>\n",
       "    <tr>\n",
       "      <th>2</th>\n",
       "      <td>0.095649</td>\n",
       "      <td>0.000</td>\n",
       "      <td>0.0</td>\n",
       "      <td>0.349057</td>\n",
       "      <td>0.5</td>\n",
       "      <td>0.239195</td>\n",
       "      <td>0.5</td>\n",
       "      <td>0.02439</td>\n",
       "      <td>0.0</td>\n",
       "      <td>0.182741</td>\n",
       "      <td>0.520199</td>\n",
       "      <td>0.955556</td>\n",
       "      <td>0.5</td>\n",
       "    </tr>\n",
       "    <tr>\n",
       "      <th>3</th>\n",
       "      <td>0.040314</td>\n",
       "      <td>0.000</td>\n",
       "      <td>0.0</td>\n",
       "      <td>0.849057</td>\n",
       "      <td>0.5</td>\n",
       "      <td>0.261720</td>\n",
       "      <td>0.5</td>\n",
       "      <td>0.02439</td>\n",
       "      <td>0.0</td>\n",
       "      <td>0.182908</td>\n",
       "      <td>0.520199</td>\n",
       "      <td>0.955556</td>\n",
       "      <td>0.5</td>\n",
       "    </tr>\n",
       "    <tr>\n",
       "      <th>4</th>\n",
       "      <td>0.333132</td>\n",
       "      <td>0.250</td>\n",
       "      <td>0.5</td>\n",
       "      <td>0.716981</td>\n",
       "      <td>1.0</td>\n",
       "      <td>1.000000</td>\n",
       "      <td>0.5</td>\n",
       "      <td>0.02439</td>\n",
       "      <td>0.0</td>\n",
       "      <td>0.253606</td>\n",
       "      <td>0.597122</td>\n",
       "      <td>0.429630</td>\n",
       "      <td>1.0</td>\n",
       "    </tr>\n",
       "  </tbody>\n",
       "</table>\n",
       "</div>"
      ],
      "text/plain": [
       "      Title  Category Name  Experience  Sub Category Name  Currency    Budget  \\\n",
       "0  0.083650          0.125         0.0           0.396226       0.0  0.480843   \n",
       "1  0.550501          0.875         0.0           0.424528       0.5  0.314335   \n",
       "2  0.095649          0.000         0.0           0.349057       0.5  0.239195   \n",
       "3  0.040314          0.000         0.0           0.849057       0.5  0.261720   \n",
       "4  0.333132          0.250         0.5           0.716981       1.0  1.000000   \n",
       "\n",
       "   Location  Freelancer Preferred From  Type  Description  Client City  \\\n",
       "0       0.5                    0.02439   0.0     0.875042     0.270614   \n",
       "1       0.5                    0.02439   0.0     0.104579     0.520199   \n",
       "2       0.5                    0.02439   0.0     0.182741     0.520199   \n",
       "3       0.5                    0.02439   0.0     0.182908     0.520199   \n",
       "4       0.5                    0.02439   0.0     0.253606     0.597122   \n",
       "\n",
       "   Client Country  Client Currency  \n",
       "0        0.451852              0.0  \n",
       "1        0.955556              0.5  \n",
       "2        0.955556              0.5  \n",
       "3        0.955556              0.5  \n",
       "4        0.429630              1.0  "
      ]
     },
     "execution_count": 33,
     "metadata": {},
     "output_type": "execute_result"
    }
   ],
   "source": [
    "df.head()"
   ]
  },
  {
   "cell_type": "code",
   "execution_count": 34,
   "id": "1800f47e",
   "metadata": {},
   "outputs": [
    {
     "data": {
      "text/plain": [
       "array([[1.        , 0.08364986, 0.125     , ..., 0.        , 0.        ,\n",
       "        0.        ],\n",
       "       [1.        , 0.55050069, 0.875     , ..., 0.2282716 , 0.11944444,\n",
       "        0.0625    ],\n",
       "       [1.        , 0.09564917, 0.        , ..., 0.2282716 , 0.11944444,\n",
       "        0.0625    ],\n",
       "       ...,\n",
       "       [1.        , 0.77063191, 0.75      , ..., 0.2282716 , 0.11944444,\n",
       "        0.0625    ],\n",
       "       [1.        , 0.17757251, 0.125     , ..., 0.18458162, 0.42962963,\n",
       "        1.        ],\n",
       "       [1.        , 0.12146064, 0.        , ..., 0.2282716 , 0.11944444,\n",
       "        0.0625    ]])"
      ]
     },
     "execution_count": 34,
     "metadata": {},
     "output_type": "execute_result"
    }
   ],
   "source": [
    "from sklearn.preprocessing import PolynomialFeatures\n",
    "\n",
    "poly = PolynomialFeatures(degree=4)\n",
    "x_poly = poly.fit_transform(x)\n",
    "x_poly"
   ]
  },
  {
   "cell_type": "code",
   "execution_count": 35,
   "id": "456aae89",
   "metadata": {},
   "outputs": [
    {
     "data": {
      "text/plain": [
       "array([0.38926196, 0.39104557, 0.45328355, ..., 0.43324709, 0.43738198,\n",
       "       0.63080764])"
      ]
     },
     "execution_count": 35,
     "metadata": {},
     "output_type": "execute_result"
    }
   ],
   "source": [
    "from sklearn.linear_model import LinearRegression\n",
    "\n",
    "model = LinearRegression()\n",
    "model.fit(x_poly,y)\n",
    "pred = model.predict(x_poly)\n",
    "pred"
   ]
  },
  {
   "cell_type": "code",
   "execution_count": 36,
   "id": "0c9699a4",
   "metadata": {},
   "outputs": [
    {
     "data": {
      "text/plain": [
       "0.011333285385149492"
      ]
     },
     "execution_count": 36,
     "metadata": {},
     "output_type": "execute_result"
    }
   ],
   "source": [
    "from sklearn.metrics import mean_squared_error\n",
    "\n",
    "mean_squared_error(y,pred)"
   ]
  },
  {
   "cell_type": "code",
   "execution_count": null,
   "id": "f6fc8882",
   "metadata": {},
   "outputs": [],
   "source": []
  },
  {
   "cell_type": "markdown",
   "id": "0546067e",
   "metadata": {},
   "source": [
    "## Lasso Regression"
   ]
  },
  {
   "cell_type": "code",
   "execution_count": 37,
   "id": "886acfcd",
   "metadata": {},
   "outputs": [
    {
     "data": {
      "text/plain": [
       "array([-0.,  0.,  0.,  0.,  0., -0., -0., -0.,  0.,  0., -0.,  0.])"
      ]
     },
     "execution_count": 37,
     "metadata": {},
     "output_type": "execute_result"
    }
   ],
   "source": [
    "from sklearn.linear_model import Lasso\n",
    "\n",
    "lasso = Lasso(alpha=1) \n",
    "lasso.fit(xtrain,ytrain)\n",
    "lasso.coef_"
   ]
  },
  {
   "cell_type": "code",
   "execution_count": 38,
   "id": "7cb4465b",
   "metadata": {},
   "outputs": [
    {
     "data": {
      "text/plain": [
       "0.14613168065072926"
      ]
     },
     "execution_count": 38,
     "metadata": {},
     "output_type": "execute_result"
    }
   ],
   "source": [
    "from sklearn.metrics import mean_absolute_error\n",
    "\n",
    "trainpred = lasso.predict(xtrain)\n",
    "mean_absolute_error(ytrain, trainpred)"
   ]
  },
  {
   "cell_type": "code",
   "execution_count": 39,
   "id": "89ab23a8",
   "metadata": {},
   "outputs": [
    {
     "data": {
      "text/plain": [
       "0.14701928502899633"
      ]
     },
     "execution_count": 39,
     "metadata": {},
     "output_type": "execute_result"
    }
   ],
   "source": [
    "from sklearn.metrics import mean_absolute_error\n",
    "\n",
    "testpred = lasso.predict(xtest)\n",
    "mean_absolute_error(ytest, testpred)"
   ]
  },
  {
   "cell_type": "code",
   "execution_count": 40,
   "id": "09c9f953",
   "metadata": {},
   "outputs": [
    {
     "name": "stderr",
     "output_type": "stream",
     "text": [
      "C:\\ProgramData\\anaconda3\\Lib\\site-packages\\sklearn\\base.py:1151: UserWarning: With alpha=0, this algorithm does not converge well. You are advised to use the LinearRegression estimator\n",
      "  return fit_method(estimator, *args, **kwargs)\n",
      "C:\\ProgramData\\anaconda3\\Lib\\site-packages\\sklearn\\linear_model\\_coordinate_descent.py:628: UserWarning: Coordinate descent with no regularization may lead to unexpected results and is discouraged.\n",
      "  model = cd_fast.enet_coordinate_descent(\n",
      "C:\\ProgramData\\anaconda3\\Lib\\site-packages\\sklearn\\linear_model\\_coordinate_descent.py:628: ConvergenceWarning: Objective did not converge. You might want to increase the number of iterations, check the scale of the features or consider increasing regularisation. Duality gap: 1.060e+02, tolerance: 3.337e-02 Linear regression models with null weight for the l1 regularization term are more efficiently fitted using one of the solvers implemented in sklearn.linear_model.Ridge/RidgeCV instead.\n",
      "  model = cd_fast.enet_coordinate_descent(\n"
     ]
    }
   ],
   "source": [
    "trainerrors = []\n",
    "testerrors = []\n",
    "for i in range(10):\n",
    "    lasso = Lasso(alpha=i)\n",
    "    lasso.fit(xtrain, ytrain)\n",
    "    trainpred = lasso.predict(xtrain)\n",
    "    trainerrors.append(mean_absolute_error(ytrain, trainpred))\n",
    "    testpred = lasso.predict(xtest)\n",
    "    testerrors.append(mean_absolute_error(ytest,testpred))"
   ]
  },
  {
   "cell_type": "code",
   "execution_count": 41,
   "id": "aeb42a9d",
   "metadata": {},
   "outputs": [
    {
     "data": {
      "image/png": "[encoded data removed]",
      "text/plain": [
       "<Figure size 640x480 with 1 Axes>"
      ]
     },
     "metadata": {},
     "output_type": "display_data"
    }
   ],
   "source": [
    "import matplotlib.pyplot as plt\n",
    "\n",
    "plt.plot(range(10), trainerrors, label='Training Error')\n",
    "plt.plot(range(10), testerrors, label='Testing Error')\n",
    "plt.xlabel('Alpha')\n",
    "plt.ylabel('Error')\n",
    "plt.legend()\n",
    "plt.show()"
   ]
  },
  {
   "cell_type": "markdown",
   "id": "7d581d6d",
   "metadata": {},
   "source": [
    "## Ridge Regression"
   ]
  },
  {
   "cell_type": "code",
   "execution_count": 42,
   "id": "479cc8b4",
   "metadata": {},
   "outputs": [
    {
     "data": {
      "text/plain": [
       "array([-0.00718485,  0.03502816,  0.22510444,  0.04795992,  0.01552964,\n",
       "        0.03557608,  0.00227745, -0.22232637,  0.00949899,  0.00940394,\n",
       "       -0.00206316,  0.02362113])"
      ]
     },
     "execution_count": 42,
     "metadata": {},
     "output_type": "execute_result"
    }
   ],
   "source": [
    "from sklearn.linear_model import Ridge\n",
    "\n",
    "ridge = Ridge(alpha=1) \n",
    "ridge.fit(xtrain,ytrain)\n",
    "ridge.coef_"
   ]
  },
  {
   "cell_type": "code",
   "execution_count": 43,
   "id": "7be7fa21",
   "metadata": {},
   "outputs": [
    {
     "data": {
      "text/plain": [
       "0.10821101566756007"
      ]
     },
     "execution_count": 43,
     "metadata": {},
     "output_type": "execute_result"
    }
   ],
   "source": [
    "trainpred = ridge.predict(xtrain)\n",
    "mean_absolute_error(ytrain,trainpred)"
   ]
  },
  {
   "cell_type": "code",
   "execution_count": 44,
   "id": "c3c87608",
   "metadata": {},
   "outputs": [
    {
     "data": {
      "text/plain": [
       "0.11016590967741031"
      ]
     },
     "execution_count": 44,
     "metadata": {},
     "output_type": "execute_result"
    }
   ],
   "source": [
    "testpred = ridge.predict(xtest)\n",
    "mean_absolute_error(ytest, testpred)"
   ]
  },
  {
   "cell_type": "code",
   "execution_count": 45,
   "id": "d2ec666d",
   "metadata": {},
   "outputs": [],
   "source": [
    "trainerrors = []\n",
    "testerrors = []\n",
    "for i in range(10):\n",
    "    ridge = Ridge(alpha=i)\n",
    "    ridge.fit(xtrain, ytrain)\n",
    "    trainpred = ridge.predict(xtrain)\n",
    "    trainerrors.append(mean_absolute_error(ytrain, trainpred))\n",
    "    testpred = ridge.predict(xtest)\n",
    "    testerrors.append(mean_absolute_error(ytest,testpred))"
   ]
  },
  {
   "cell_type": "code",
   "execution_count": 46,
   "id": "11decbe1",
   "metadata": {},
   "outputs": [
    {
     "data": {
      "image/png": "[encoded data removed]",
      "text/plain": [
       "<Figure size 640x480 with 1 Axes>"
      ]
     },
     "metadata": {},
     "output_type": "display_data"
    }
   ],
   "source": [
    "import matplotlib.pyplot as plt\n",
    "\n",
    "plt.plot(range(10), trainerrors, label='Training Error')\n",
    "plt.plot(range(10), testerrors, label='Testing Error')\n",
    "plt.xlabel('Alpha')\n",
    "plt.ylabel('Error')\n",
    "plt.legend()\n",
    "plt.show()"
   ]
  },
  {
   "cell_type": "markdown",
   "id": "a67716e6",
   "metadata": {},
   "source": [
    "## Decision Tree Regression "
   ]
  },
  {
   "cell_type": "code",
   "execution_count": 47,
   "id": "ffe0b463",
   "metadata": {},
   "outputs": [
    {
     "data": {
      "text/plain": [
       "array([0.64966256, 0.42044309, 0.42044309, 0.42044309, 0.64966256])"
      ]
     },
     "execution_count": 47,
     "metadata": {},
     "output_type": "execute_result"
    }
   ],
   "source": [
    "from sklearn.tree import DecisionTreeRegressor\n",
    "\n",
    "model = DecisionTreeRegressor(max_depth=2)\n",
    "model.fit(xtrain, ytrain)\n",
    "trainpred = model.predict(xtrain)\n",
    "trainpred[:5]"
   ]
  },
  {
   "cell_type": "code",
   "execution_count": 48,
   "id": "fbdb8a82",
   "metadata": {},
   "outputs": [
    {
     "data": {
      "text/plain": [
       "0.016679188651920966"
      ]
     },
     "execution_count": 48,
     "metadata": {},
     "output_type": "execute_result"
    }
   ],
   "source": [
    "from sklearn.metrics import mean_squared_error\n",
    "\n",
    "mean_squared_error(ytrain, trainpred)"
   ]
  },
  {
   "cell_type": "code",
   "execution_count": 49,
   "id": "cbb10316",
   "metadata": {},
   "outputs": [
    {
     "data": {
      "text/plain": [
       "0.016800662109437328"
      ]
     },
     "execution_count": 49,
     "metadata": {},
     "output_type": "execute_result"
    }
   ],
   "source": [
    "testpred = model.predict(xtest)\n",
    "mean_squared_error(ytest, testpred)"
   ]
  },
  {
   "cell_type": "code",
   "execution_count": 50,
   "id": "2402b1ba",
   "metadata": {},
   "outputs": [
    {
     "data": {
      "image/png": "[encoded data removed]",
      "text/plain": [
       "<Figure size 640x480 with 1 Axes>"
      ]
     },
     "metadata": {},
     "output_type": "display_data"
    }
   ],
   "source": [
    "from sklearn.tree import plot_tree\n",
    "import matplotlib.pyplot as plt\n",
    "\n",
    "plot_tree(model)\n",
    "plt.show()"
   ]
  },
  {
   "cell_type": "markdown",
   "id": "690b2955",
   "metadata": {},
   "source": [
    "## Random Forest Regression"
   ]
  },
  {
   "cell_type": "code",
   "execution_count": 51,
   "id": "efd873aa",
   "metadata": {},
   "outputs": [
    {
     "data": {
      "text/plain": [
       "array([0.53991798, 0.41570787, 0.49136173, 0.42112375, 0.49369856])"
      ]
     },
     "execution_count": 51,
     "metadata": {},
     "output_type": "execute_result"
    }
   ],
   "source": [
    "from sklearn.ensemble import RandomForestRegressor\n",
    "\n",
    "model = RandomForestRegressor(n_estimators = 100)\n",
    "model.fit(xtrain,ytrain)\n",
    "trainpred = model.predict(xtrain)\n",
    "trainpred[:5]"
   ]
  },
  {
   "cell_type": "code",
   "execution_count": 52,
   "id": "4e20b2f3",
   "metadata": {},
   "outputs": [
    {
     "data": {
      "text/plain": [
       "0.0016301068758172016"
      ]
     },
     "execution_count": 52,
     "metadata": {},
     "output_type": "execute_result"
    }
   ],
   "source": [
    "from sklearn.metrics import mean_squared_error\n",
    "\n",
    "mean_squared_error(ytrain, trainpred)"
   ]
  },
  {
   "cell_type": "code",
   "execution_count": 53,
   "id": "72361c67",
   "metadata": {},
   "outputs": [
    {
     "data": {
      "text/plain": [
       "0.012216717113157121"
      ]
     },
     "execution_count": 53,
     "metadata": {},
     "output_type": "execute_result"
    }
   ],
   "source": [
    "testpred = model.predict(xtest)\n",
    "mean_squared_error(ytest, testpred)"
   ]
  },
  {
   "cell_type": "markdown",
   "id": "e65286b4",
   "metadata": {},
   "source": [
    "## Adaboost Regression"
   ]
  },
  {
   "cell_type": "code",
   "execution_count": 54,
   "id": "9f57e3d6",
   "metadata": {},
   "outputs": [
    {
     "data": {
      "text/plain": [
       "array([0.47475237, 0.43759899, 0.43560734, 0.40142376, 0.48236141])"
      ]
     },
     "execution_count": 54,
     "metadata": {},
     "output_type": "execute_result"
    }
   ],
   "source": [
    "from sklearn.ensemble import AdaBoostRegressor\n",
    "\n",
    "model = AdaBoostRegressor()\n",
    "model.fit(xtrain,ytrain)\n",
    "trainpred=model.predict(xtrain)\n",
    "trainpred[:5]"
   ]
  },
  {
   "cell_type": "code",
   "execution_count": 55,
   "id": "40a32370",
   "metadata": {},
   "outputs": [
    {
     "data": {
      "text/plain": [
       "0.016177633211307017"
      ]
     },
     "execution_count": 55,
     "metadata": {},
     "output_type": "execute_result"
    }
   ],
   "source": [
    "from sklearn.metrics import mean_squared_error\n",
    "\n",
    "mean_squared_error(ytrain,trainpred)"
   ]
  },
  {
   "cell_type": "code",
   "execution_count": 56,
   "id": "7525842c",
   "metadata": {},
   "outputs": [
    {
     "data": {
      "text/plain": [
       "0.016802053393387487"
      ]
     },
     "execution_count": 56,
     "metadata": {},
     "output_type": "execute_result"
    }
   ],
   "source": [
    "testpred = model.predict(xtest)\n",
    "mean_squared_error(ytest,testpred)"
   ]
  },
  {
   "cell_type": "markdown",
   "id": "b0e426a7",
   "metadata": {},
   "source": [
    "## Gradient Boost Regression"
   ]
  },
  {
   "cell_type": "code",
   "execution_count": 57,
   "id": "f4d230f4",
   "metadata": {},
   "outputs": [
    {
     "data": {
      "text/plain": [
       "array([0.56201587, 0.46763942, 0.44520272, 0.39028876, 0.51358022])"
      ]
     },
     "execution_count": 57,
     "metadata": {},
     "output_type": "execute_result"
    }
   ],
   "source": [
    "from sklearn.ensemble import GradientBoostingRegressor\n",
    "\n",
    "model = GradientBoostingRegressor()\n",
    "model.fit(xtrain, ytrain)\n",
    "trainpred = model.predict(xtrain)\n",
    "trainpred[:5]"
   ]
  },
  {
   "cell_type": "code",
   "execution_count": 58,
   "id": "77e1bbac",
   "metadata": {},
   "outputs": [
    {
     "data": {
      "text/plain": [
       "0.011446780734828799"
      ]
     },
     "execution_count": 58,
     "metadata": {},
     "output_type": "execute_result"
    }
   ],
   "source": [
    "from sklearn.metrics import mean_squared_error\n",
    "\n",
    "mean_squared_error(ytrain,trainpred)"
   ]
  },
  {
   "cell_type": "code",
   "execution_count": 59,
   "id": "abf346bf",
   "metadata": {},
   "outputs": [
    {
     "data": {
      "text/plain": [
       "0.012473576883466873"
      ]
     },
     "execution_count": 59,
     "metadata": {},
     "output_type": "execute_result"
    }
   ],
   "source": [
    "testpred = model.predict(xtest)\n",
    "mean_squared_error(ytest,testpred)"
   ]
  },
  {
   "cell_type": "markdown",
   "id": "723e0181",
   "metadata": {},
   "source": [
    "## XGBoost Regression"
   ]
  },
  {
   "cell_type": "code",
   "execution_count": 60,
   "id": "6a7ecea2",
   "metadata": {},
   "outputs": [
    {
     "name": "stdout",
     "output_type": "stream",
     "text": [
      "Defaulting to user installation because normal site-packages is not writeable\n",
      "Requirement already satisfied: xgboost in c:\\users\\palla\\appdata\\roaming\\python\\python311\\site-packages (2.0.0)\n",
      "Requirement already satisfied: numpy in c:\\programdata\\anaconda3\\lib\\site-packages (from xgboost) (1.24.3)\n",
      "Requirement already satisfied: scipy in c:\\programdata\\anaconda3\\lib\\site-packages (from xgboost) (1.10.1)\n"
     ]
    }
   ],
   "source": [
    "!pip install xgboost"
   ]
  },
  {
   "cell_type": "code",
   "execution_count": 61,
   "id": "6abd00fe",
   "metadata": {},
   "outputs": [
    {
     "data": {
      "text/plain": [
       "array([0.5465826 , 0.44730353, 0.49883124, 0.4204643 , 0.5059216 ],\n",
       "      dtype=float32)"
      ]
     },
     "execution_count": 61,
     "metadata": {},
     "output_type": "execute_result"
    }
   ],
   "source": [
    "import xgboost as xgb\n",
    "\n",
    "model = xgb.XGBRegressor()\n",
    "model.fit(xtrain,ytrain)\n",
    "trainpred = model.predict(xtrain)\n",
    "trainpred[:5]"
   ]
  },
  {
   "cell_type": "code",
   "execution_count": 62,
   "id": "81db4eff",
   "metadata": {},
   "outputs": [
    {
     "data": {
      "text/plain": [
       "0.0050838922466072715"
      ]
     },
     "execution_count": 62,
     "metadata": {},
     "output_type": "execute_result"
    }
   ],
   "source": [
    "from sklearn.metrics import mean_squared_error\n",
    "\n",
    "mean_squared_error(ytrain,trainpred)"
   ]
  },
  {
   "cell_type": "code",
   "execution_count": 63,
   "id": "0339204c",
   "metadata": {},
   "outputs": [
    {
     "data": {
      "text/plain": [
       "array([0.42261744, 0.5952814 , 0.37062526, 0.26594287, 0.65999776],\n",
       "      dtype=float32)"
      ]
     },
     "execution_count": 63,
     "metadata": {},
     "output_type": "execute_result"
    }
   ],
   "source": [
    "testpred = model.predict(xtest)\n",
    "testpred[:5]"
   ]
  },
  {
   "cell_type": "code",
   "execution_count": 64,
   "id": "0e3b1ee6",
   "metadata": {},
   "outputs": [
    {
     "data": {
      "text/plain": [
       "0.012431742823101924"
      ]
     },
     "execution_count": 64,
     "metadata": {},
     "output_type": "execute_result"
    }
   ],
   "source": [
    "mean_squared_error(ytest,testpred)"
   ]
  },
  {
   "cell_type": "markdown",
   "id": "f9bd0270",
   "metadata": {},
   "source": [
    "## Support Vector Regression"
   ]
  },
  {
   "cell_type": "code",
   "execution_count": 65,
   "id": "25657ba3",
   "metadata": {},
   "outputs": [
    {
     "data": {
      "text/plain": [
       "array([0.67625683, 0.5062645 , 0.50896566, 0.4316868 , 0.68892257])"
      ]
     },
     "execution_count": 65,
     "metadata": {},
     "output_type": "execute_result"
    }
   ],
   "source": [
    "from sklearn.svm import SVR\n",
    "\n",
    "model = SVR(kernel='linear')\n",
    "model.fit(xtrain, ytrain)\n",
    "trainpred = model.predict(xtrain)\n",
    "trainpred[:5]"
   ]
  },
  {
   "cell_type": "code",
   "execution_count": 66,
   "id": "c2f4be26",
   "metadata": {},
   "outputs": [
    {
     "data": {
      "text/plain": [
       "0.021737536108822227"
      ]
     },
     "execution_count": 66,
     "metadata": {},
     "output_type": "execute_result"
    }
   ],
   "source": [
    "from sklearn.metrics import mean_squared_error\n",
    "\n",
    "mean_squared_error(ytrain, trainpred)"
   ]
  },
  {
   "cell_type": "code",
   "execution_count": 67,
   "id": "bf5da70e",
   "metadata": {},
   "outputs": [
    {
     "data": {
      "text/plain": [
       "0.022052900414065605"
      ]
     },
     "execution_count": 67,
     "metadata": {},
     "output_type": "execute_result"
    }
   ],
   "source": [
    "testpred = model.predict(xtest)\n",
    "mean_squared_error(ytest, testpred)"
   ]
  },
  {
   "cell_type": "markdown",
   "id": "7baa8461",
   "metadata": {},
   "source": [
    "# 4. Create a classification model to predict the value of the Type column."
   ]
  },
  {
   "cell_type": "code",
   "execution_count": 68,
   "id": "165da2db",
   "metadata": {},
   "outputs": [],
   "source": [
    "x = df.drop(columns=['Type'])\n",
    "y = df['Type']"
   ]
  },
  {
   "cell_type": "code",
   "execution_count": 69,
   "id": "77733e12",
   "metadata": {},
   "outputs": [],
   "source": [
    "from sklearn.model_selection import train_test_split\n",
    "\n",
    "xtrain, xtest, ytrain, ytest = train_test_split(x,y, train_size=0.8,\n",
    "                                               random_state=4,\n",
    "                                               stratify = y) "
   ]
  },
  {
   "cell_type": "markdown",
   "id": "55f41429",
   "metadata": {},
   "source": [
    "## Logistic Regression"
   ]
  },
  {
   "cell_type": "code",
   "execution_count": 70,
   "id": "0076b561",
   "metadata": {},
   "outputs": [
    {
     "data": {
      "text/plain": [
       "0.0    10437\n",
       "1.0     1785\n",
       "Name: Type, dtype: int64"
      ]
     },
     "execution_count": 70,
     "metadata": {},
     "output_type": "execute_result"
    }
   ],
   "source": [
    "y.value_counts()"
   ]
  },
  {
   "cell_type": "code",
   "execution_count": 71,
   "id": "e5471aa5",
   "metadata": {},
   "outputs": [
    {
     "data": {
      "text/plain": [
       "array([1., 0., 0., 0., 0.])"
      ]
     },
     "execution_count": 71,
     "metadata": {},
     "output_type": "execute_result"
    }
   ],
   "source": [
    "from sklearn.linear_model import LogisticRegression\n",
    "\n",
    "model = LogisticRegression(class_weight='balanced') # gives equal weight to both the points\n",
    "model.fit(xtrain, ytrain)\n",
    "trainpred = model.predict(xtrain)\n",
    "trainpred[:5]"
   ]
  },
  {
   "cell_type": "code",
   "execution_count": 72,
   "id": "cbb4aad5",
   "metadata": {},
   "outputs": [
    {
     "data": {
      "text/plain": [
       "array([0., 0., 1., 0., 0.])"
      ]
     },
     "execution_count": 72,
     "metadata": {},
     "output_type": "execute_result"
    }
   ],
   "source": [
    "testpred = model.predict(xtest)\n",
    "testpred[:5]"
   ]
  },
  {
   "cell_type": "code",
   "execution_count": 73,
   "id": "f75c08f6",
   "metadata": {},
   "outputs": [
    {
     "data": {
      "text/plain": [
       "array([[6809, 1540],\n",
       "       [ 109, 1319]], dtype=int64)"
      ]
     },
     "execution_count": 73,
     "metadata": {},
     "output_type": "execute_result"
    }
   ],
   "source": [
    "from sklearn import metrics\n",
    "\n",
    "cm = metrics.confusion_matrix(ytrain, trainpred)\n",
    "cm"
   ]
  },
  {
   "cell_type": "code",
   "execution_count": 74,
   "id": "255094d4",
   "metadata": {},
   "outputs": [
    {
     "data": {
      "image/png": "[encoded data removed]",
      "text/plain": [
       "<Figure size 640x480 with 2 Axes>"
      ]
     },
     "metadata": {},
     "output_type": "display_data"
    }
   ],
   "source": [
    "import matplotlib.pyplot as plt\n",
    "\n",
    "cm_display = metrics.ConfusionMatrixDisplay(confusion_matrix=cm,\n",
    "                                           display_labels = [False,True])\n",
    "cm_display.plot()\n",
    "plt.show()"
   ]
  },
  {
   "cell_type": "code",
   "execution_count": 75,
   "id": "23e47614",
   "metadata": {},
   "outputs": [
    {
     "data": {
      "text/plain": [
       "0.9236694677871149"
      ]
     },
     "execution_count": 75,
     "metadata": {},
     "output_type": "execute_result"
    }
   ],
   "source": [
    "metrics.recall_score(ytrain, trainpred)"
   ]
  },
  {
   "cell_type": "code",
   "execution_count": 76,
   "id": "134bbf09",
   "metadata": {},
   "outputs": [
    {
     "data": {
      "text/plain": [
       "0.4613501224204267"
      ]
     },
     "execution_count": 76,
     "metadata": {},
     "output_type": "execute_result"
    }
   ],
   "source": [
    "metrics.precision_score(ytrain, trainpred)"
   ]
  },
  {
   "cell_type": "code",
   "execution_count": 77,
   "id": "2a07656c",
   "metadata": {},
   "outputs": [
    {
     "name": "stdout",
     "output_type": "stream",
     "text": [
      "              precision    recall  f1-score   support\n",
      "\n",
      "         0.0       0.98      0.82      0.89      8349\n",
      "         1.0       0.46      0.92      0.62      1428\n",
      "\n",
      "    accuracy                           0.83      9777\n",
      "   macro avg       0.72      0.87      0.75      9777\n",
      "weighted avg       0.91      0.83      0.85      9777\n",
      "\n"
     ]
    }
   ],
   "source": [
    "print(metrics.classification_report(ytrain, trainpred))"
   ]
  },
  {
   "cell_type": "code",
   "execution_count": 78,
   "id": "f25cdd4d",
   "metadata": {},
   "outputs": [
    {
     "name": "stdout",
     "output_type": "stream",
     "text": [
      "              precision    recall  f1-score   support\n",
      "\n",
      "         0.0       0.98      0.82      0.90      2088\n",
      "         1.0       0.47      0.92      0.62       357\n",
      "\n",
      "    accuracy                           0.84      2445\n",
      "   macro avg       0.73      0.87      0.76      2445\n",
      "weighted avg       0.91      0.84      0.86      2445\n",
      "\n"
     ]
    }
   ],
   "source": [
    "print(metrics.classification_report(ytest, testpred))"
   ]
  },
  {
   "cell_type": "code",
   "execution_count": 79,
   "id": "60ac128f",
   "metadata": {},
   "outputs": [
    {
     "data": {
      "text/plain": [
       "array([[0.19808888, 0.80191112],\n",
       "       [0.61295522, 0.38704478],\n",
       "       [0.83719376, 0.16280624],\n",
       "       ...,\n",
       "       [0.9970384 , 0.0029616 ],\n",
       "       [0.91645527, 0.08354473],\n",
       "       [0.4818615 , 0.5181385 ]])"
      ]
     },
     "execution_count": 79,
     "metadata": {},
     "output_type": "execute_result"
    }
   ],
   "source": [
    "trainprob = model.predict_proba(xtrain) #arr(([0,1], [0,1]...)) 0th value represents false 1st true\n",
    "trainprob"
   ]
  },
  {
   "cell_type": "code",
   "execution_count": 80,
   "id": "b598db27",
   "metadata": {},
   "outputs": [
    {
     "name": "stdout",
     "output_type": "stream",
     "text": [
      "              precision    recall  f1-score   support\n",
      "\n",
      "         0.0       0.55      0.20      0.29      8349\n",
      "         1.0       0.01      0.07      0.02      1428\n",
      "\n",
      "    accuracy                           0.18      9777\n",
      "   macro avg       0.28      0.13      0.16      9777\n",
      "weighted avg       0.47      0.18      0.25      9777\n",
      "\n"
     ]
    }
   ],
   "source": [
    "trainpred = [0 if i<=0.53 else 1 for i in trainprob[:,0]]\n",
    "print(metrics.classification_report(ytrain, trainpred))"
   ]
  },
  {
   "cell_type": "markdown",
   "id": "372db3ac",
   "metadata": {},
   "source": [
    "## Decision Tree Classification"
   ]
  },
  {
   "cell_type": "code",
   "execution_count": 81,
   "id": "cb9f6e06",
   "metadata": {},
   "outputs": [
    {
     "data": {
      "text/plain": [
       "array([0., 0., 0., 0., 0.])"
      ]
     },
     "execution_count": 81,
     "metadata": {},
     "output_type": "execute_result"
    }
   ],
   "source": [
    "from sklearn.tree import DecisionTreeClassifier\n",
    "\n",
    "model = DecisionTreeClassifier(max_depth=4) \n",
    "model.fit(xtrain, ytrain)\n",
    "trainpred = model.predict(xtrain)\n",
    "trainpred[:5]"
   ]
  },
  {
   "cell_type": "code",
   "execution_count": 82,
   "id": "65a2a4cb",
   "metadata": {},
   "outputs": [
    {
     "name": "stdout",
     "output_type": "stream",
     "text": [
      "              precision    recall  f1-score   support\n",
      "\n",
      "         0.0       0.93      0.99      0.96      8349\n",
      "         1.0       0.90      0.59      0.72      1428\n",
      "\n",
      "    accuracy                           0.93      9777\n",
      "   macro avg       0.92      0.79      0.84      9777\n",
      "weighted avg       0.93      0.93      0.93      9777\n",
      "\n"
     ]
    }
   ],
   "source": [
    "from sklearn.metrics import classification_report\n",
    "\n",
    "print(classification_report(ytrain, trainpred))"
   ]
  },
  {
   "cell_type": "code",
   "execution_count": 83,
   "id": "88e4780a",
   "metadata": {},
   "outputs": [
    {
     "name": "stdout",
     "output_type": "stream",
     "text": [
      "              precision    recall  f1-score   support\n",
      "\n",
      "         0.0       0.93      0.99      0.96      2088\n",
      "         1.0       0.89      0.59      0.71       357\n",
      "\n",
      "    accuracy                           0.93      2445\n",
      "   macro avg       0.91      0.79      0.84      2445\n",
      "weighted avg       0.93      0.93      0.92      2445\n",
      "\n"
     ]
    }
   ],
   "source": [
    "testpred = model.predict(xtest)\n",
    "print(classification_report(ytest, testpred))"
   ]
  },
  {
   "cell_type": "code",
   "execution_count": 84,
   "id": "ddb5ee71",
   "metadata": {},
   "outputs": [
    {
     "data": {
      "image/png": "[encoded data removed]",
      "text/plain": [
       "<Figure size 640x480 with 1 Axes>"
      ]
     },
     "metadata": {},
     "output_type": "display_data"
    }
   ],
   "source": [
    "from sklearn.tree import plot_tree\n",
    "import matplotlib.pyplot as plt\n",
    "\n",
    "plot_tree(model)\n",
    "plt.show()"
   ]
  },
  {
   "cell_type": "markdown",
   "id": "2faa73ff",
   "metadata": {},
   "source": [
    "## Random Forest Classification"
   ]
  },
  {
   "cell_type": "code",
   "execution_count": 85,
   "id": "05f2ed58",
   "metadata": {},
   "outputs": [
    {
     "data": {
      "text/plain": [
       "array([0., 0., 0., 0., 0.])"
      ]
     },
     "execution_count": 85,
     "metadata": {},
     "output_type": "execute_result"
    }
   ],
   "source": [
    "from sklearn.ensemble import RandomForestClassifier\n",
    "\n",
    "model = RandomForestClassifier(n_estimators=100)\n",
    "model.fit(xtrain,ytrain)\n",
    "trainpred = model.predict(xtrain)\n",
    "trainpred[:5]"
   ]
  },
  {
   "cell_type": "code",
   "execution_count": 86,
   "id": "b3c0a3ae",
   "metadata": {},
   "outputs": [
    {
     "data": {
      "text/plain": [
       "array([[0.91, 0.09],\n",
       "       [1.  , 0.  ],\n",
       "       [1.  , 0.  ],\n",
       "       [0.99, 0.01],\n",
       "       [0.99, 0.01]])"
      ]
     },
     "execution_count": 86,
     "metadata": {},
     "output_type": "execute_result"
    }
   ],
   "source": [
    "model.predict_proba(xtrain)[:5]"
   ]
  },
  {
   "cell_type": "code",
   "execution_count": 87,
   "id": "c6bc7504",
   "metadata": {},
   "outputs": [
    {
     "name": "stdout",
     "output_type": "stream",
     "text": [
      "              precision    recall  f1-score   support\n",
      "\n",
      "         0.0       1.00      1.00      1.00      8349\n",
      "         1.0       1.00      1.00      1.00      1428\n",
      "\n",
      "    accuracy                           1.00      9777\n",
      "   macro avg       1.00      1.00      1.00      9777\n",
      "weighted avg       1.00      1.00      1.00      9777\n",
      "\n"
     ]
    }
   ],
   "source": [
    "from sklearn.metrics import classification_report\n",
    "\n",
    "print(classification_report(ytrain, trainpred))"
   ]
  },
  {
   "cell_type": "code",
   "execution_count": 88,
   "id": "5bb597c7",
   "metadata": {},
   "outputs": [
    {
     "name": "stdout",
     "output_type": "stream",
     "text": [
      "              precision    recall  f1-score   support\n",
      "\n",
      "         0.0       0.95      0.98      0.97      2088\n",
      "         1.0       0.88      0.73      0.80       357\n",
      "\n",
      "    accuracy                           0.95      2445\n",
      "   macro avg       0.92      0.85      0.88      2445\n",
      "weighted avg       0.94      0.95      0.94      2445\n",
      "\n"
     ]
    }
   ],
   "source": [
    "testpred = model.predict(xtest)\n",
    "print(classification_report(ytest, testpred))"
   ]
  },
  {
   "cell_type": "markdown",
   "id": "a5cde1de",
   "metadata": {},
   "source": [
    "## Adaboost Classification"
   ]
  },
  {
   "cell_type": "code",
   "execution_count": 89,
   "id": "6062e005",
   "metadata": {},
   "outputs": [
    {
     "data": {
      "text/plain": [
       "array([0., 0., 0., 0., 0.])"
      ]
     },
     "execution_count": 89,
     "metadata": {},
     "output_type": "execute_result"
    }
   ],
   "source": [
    "from sklearn.ensemble import AdaBoostClassifier\n",
    "\n",
    "model = AdaBoostClassifier()\n",
    "model.fit(xtrain, ytrain)\n",
    "trainpred = model.predict(xtrain)\n",
    "trainpred[:5]"
   ]
  },
  {
   "cell_type": "code",
   "execution_count": 90,
   "id": "b2edf186",
   "metadata": {},
   "outputs": [
    {
     "name": "stdout",
     "output_type": "stream",
     "text": [
      "              precision    recall  f1-score   support\n",
      "\n",
      "         0.0       0.95      0.98      0.96      8349\n",
      "         1.0       0.86      0.69      0.77      1428\n",
      "\n",
      "    accuracy                           0.94      9777\n",
      "   macro avg       0.91      0.83      0.87      9777\n",
      "weighted avg       0.94      0.94      0.94      9777\n",
      "\n"
     ]
    }
   ],
   "source": [
    "from sklearn.metrics import classification_report\n",
    "\n",
    "print(classification_report(ytrain, trainpred))"
   ]
  },
  {
   "cell_type": "code",
   "execution_count": 91,
   "id": "28be799b",
   "metadata": {},
   "outputs": [
    {
     "name": "stdout",
     "output_type": "stream",
     "text": [
      "              precision    recall  f1-score   support\n",
      "\n",
      "         0.0       0.94      0.98      0.96      2088\n",
      "         1.0       0.87      0.66      0.75       357\n",
      "\n",
      "    accuracy                           0.94      2445\n",
      "   macro avg       0.91      0.82      0.86      2445\n",
      "weighted avg       0.93      0.94      0.93      2445\n",
      "\n"
     ]
    }
   ],
   "source": [
    "testpred = model.predict(xtest)\n",
    "print(classification_report(ytest, testpred))"
   ]
  },
  {
   "cell_type": "markdown",
   "id": "48289584",
   "metadata": {},
   "source": [
    "## Gradient Boost Classification"
   ]
  },
  {
   "cell_type": "code",
   "execution_count": 92,
   "id": "f1cc0324",
   "metadata": {},
   "outputs": [
    {
     "data": {
      "text/plain": [
       "array([0., 0., 0., 0., 0.])"
      ]
     },
     "execution_count": 92,
     "metadata": {},
     "output_type": "execute_result"
    }
   ],
   "source": [
    "from sklearn.ensemble import GradientBoostingClassifier\n",
    "\n",
    "model = GradientBoostingClassifier()\n",
    "model.fit(xtrain, ytrain)\n",
    "trainpred = model.predict(xtrain)\n",
    "trainpred[:5]"
   ]
  },
  {
   "cell_type": "code",
   "execution_count": 93,
   "id": "29be94b7",
   "metadata": {},
   "outputs": [
    {
     "name": "stdout",
     "output_type": "stream",
     "text": [
      "              precision    recall  f1-score   support\n",
      "\n",
      "         0.0       0.96      0.99      0.97      8349\n",
      "         1.0       0.91      0.77      0.83      1428\n",
      "\n",
      "    accuracy                           0.96      9777\n",
      "   macro avg       0.94      0.88      0.90      9777\n",
      "weighted avg       0.95      0.96      0.95      9777\n",
      "\n"
     ]
    }
   ],
   "source": [
    "from sklearn.metrics import classification_report\n",
    "\n",
    "print(classification_report(ytrain, trainpred))"
   ]
  },
  {
   "cell_type": "code",
   "execution_count": 94,
   "id": "b7f66f81",
   "metadata": {},
   "outputs": [
    {
     "name": "stdout",
     "output_type": "stream",
     "text": [
      "              precision    recall  f1-score   support\n",
      "\n",
      "         0.0       0.95      0.99      0.97      2088\n",
      "         1.0       0.90      0.72      0.80       357\n",
      "\n",
      "    accuracy                           0.95      2445\n",
      "   macro avg       0.92      0.85      0.88      2445\n",
      "weighted avg       0.95      0.95      0.94      2445\n",
      "\n"
     ]
    }
   ],
   "source": [
    "testpred = model.predict(xtest)\n",
    "\n",
    "print(classification_report(ytest, testpred))"
   ]
  },
  {
   "cell_type": "markdown",
   "id": "407f7578",
   "metadata": {},
   "source": [
    "## XGBoost Classification"
   ]
  },
  {
   "cell_type": "code",
   "execution_count": 95,
   "id": "5d90544f",
   "metadata": {},
   "outputs": [
    {
     "name": "stdout",
     "output_type": "stream",
     "text": [
      "Defaulting to user installation because normal site-packages is not writeable\n",
      "Requirement already satisfied: xgboost in c:\\users\\palla\\appdata\\roaming\\python\\python311\\site-packages (2.0.0)\n",
      "Requirement already satisfied: numpy in c:\\programdata\\anaconda3\\lib\\site-packages (from xgboost) (1.24.3)\n",
      "Requirement already satisfied: scipy in c:\\programdata\\anaconda3\\lib\\site-packages (from xgboost) (1.10.1)\n"
     ]
    }
   ],
   "source": [
    "!pip install xgboost"
   ]
  },
  {
   "cell_type": "code",
   "execution_count": 96,
   "id": "90dff47a",
   "metadata": {},
   "outputs": [
    {
     "data": {
      "text/plain": [
       "array([0, 0, 0, 0, 0])"
      ]
     },
     "execution_count": 96,
     "metadata": {},
     "output_type": "execute_result"
    }
   ],
   "source": [
    "import xgboost as xgb\n",
    "\n",
    "model = xgb.XGBClassifier()\n",
    "model.fit(xtrain,ytrain)\n",
    "trainpred = model.predict(xtrain)\n",
    "trainpred[:5]"
   ]
  },
  {
   "cell_type": "code",
   "execution_count": 97,
   "id": "fe963de6",
   "metadata": {},
   "outputs": [
    {
     "name": "stdout",
     "output_type": "stream",
     "text": [
      "              precision    recall  f1-score   support\n",
      "\n",
      "         0.0       1.00      1.00      1.00      8349\n",
      "         1.0       1.00      0.99      0.99      1428\n",
      "\n",
      "    accuracy                           1.00      9777\n",
      "   macro avg       1.00      0.99      1.00      9777\n",
      "weighted avg       1.00      1.00      1.00      9777\n",
      "\n"
     ]
    }
   ],
   "source": [
    "from sklearn.metrics import classification_report\n",
    "\n",
    "print(classification_report(ytrain, trainpred))"
   ]
  },
  {
   "cell_type": "code",
   "execution_count": 98,
   "id": "e6403f71",
   "metadata": {},
   "outputs": [
    {
     "name": "stdout",
     "output_type": "stream",
     "text": [
      "              precision    recall  f1-score   support\n",
      "\n",
      "         0.0       0.96      0.98      0.97      2088\n",
      "         1.0       0.86      0.77      0.81       357\n",
      "\n",
      "    accuracy                           0.95      2445\n",
      "   macro avg       0.91      0.87      0.89      2445\n",
      "weighted avg       0.95      0.95      0.95      2445\n",
      "\n"
     ]
    }
   ],
   "source": [
    "testpred = model.predict(xtest)           \n",
    "print(classification_report(ytest, testpred))"
   ]
  },
  {
   "cell_type": "markdown",
   "id": "f8b5fc72",
   "metadata": {},
   "source": [
    "## Support Vector Classification"
   ]
  },
  {
   "cell_type": "code",
   "execution_count": 99,
   "id": "5087642b",
   "metadata": {},
   "outputs": [
    {
     "data": {
      "text/plain": [
       "array([0., 0., 0., 0., 0.])"
      ]
     },
     "execution_count": 99,
     "metadata": {},
     "output_type": "execute_result"
    }
   ],
   "source": [
    "from sklearn.svm import SVC\n",
    "\n",
    "model = SVC(kernel = 'rbf')    # kernel= poly, linear, rbf, sigmoid\n",
    "model.fit(xtrain, ytrain)\n",
    "trainpred = model.predict(xtrain)\n",
    "trainpred[:5]"
   ]
  },
  {
   "cell_type": "code",
   "execution_count": 100,
   "id": "88a01f12",
   "metadata": {},
   "outputs": [
    {
     "name": "stdout",
     "output_type": "stream",
     "text": [
      "              precision    recall  f1-score   support\n",
      "\n",
      "         0.0       0.94      0.99      0.96      8349\n",
      "         1.0       0.89      0.60      0.72      1428\n",
      "\n",
      "    accuracy                           0.93      9777\n",
      "   macro avg       0.91      0.80      0.84      9777\n",
      "weighted avg       0.93      0.93      0.93      9777\n",
      "\n"
     ]
    }
   ],
   "source": [
    "from sklearn.metrics import classification_report\n",
    "\n",
    "print(classification_report(ytrain,trainpred))"
   ]
  },
  {
   "cell_type": "code",
   "execution_count": 101,
   "id": "b44b75b8",
   "metadata": {},
   "outputs": [
    {
     "name": "stdout",
     "output_type": "stream",
     "text": [
      "              precision    recall  f1-score   support\n",
      "\n",
      "         0.0       0.93      0.99      0.96      2088\n",
      "         1.0       0.89      0.57      0.69       357\n",
      "\n",
      "    accuracy                           0.93      2445\n",
      "   macro avg       0.91      0.78      0.82      2445\n",
      "weighted avg       0.92      0.93      0.92      2445\n",
      "\n"
     ]
    }
   ],
   "source": [
    "testpred = model.predict(xtest)\n",
    "print(classification_report(ytest,testpred))"
   ]
  },
  {
   "cell_type": "markdown",
   "id": "e52534ef",
   "metadata": {},
   "source": [
    "# 2. Use machine learning to create clusters of similar projects."
   ]
  },
  {
   "cell_type": "markdown",
   "id": "7d2cab4f",
   "metadata": {},
   "source": [
    "## K-means and Principal Component Analysis"
   ]
  },
  {
   "cell_type": "code",
   "execution_count": 102,
   "id": "9b2b6811",
   "metadata": {},
   "outputs": [],
   "source": [
    "x = df.drop(columns=['Budget'])"
   ]
  },
  {
   "cell_type": "code",
   "execution_count": 103,
   "id": "a0cd7e87",
   "metadata": {},
   "outputs": [],
   "source": [
    "from sklearn.model_selection import train_test_split\n",
    "\n",
    "xtrain, xtest = train_test_split(x, train_size=0.8,\n",
    "                                random_state=0)"
   ]
  },
  {
   "cell_type": "code",
   "execution_count": 104,
   "id": "c31ef4db",
   "metadata": {},
   "outputs": [],
   "source": [
    "from sklearn.preprocessing import StandardScaler\n",
    "\n",
    "scaler = StandardScaler()\n",
    "xtrain = scaler.fit_transform(xtrain)\n",
    "xtest = scaler.transform(xtest)"
   ]
  },
  {
   "cell_type": "code",
   "execution_count": 105,
   "id": "3a4d1ad7",
   "metadata": {},
   "outputs": [
    {
     "data": {
      "text/plain": [
       "(9777, 12)"
      ]
     },
     "execution_count": 105,
     "metadata": {},
     "output_type": "execute_result"
    }
   ],
   "source": [
    "xtrain.shape"
   ]
  },
  {
   "cell_type": "code",
   "execution_count": 106,
   "id": "fd015ee2",
   "metadata": {},
   "outputs": [
    {
     "data": {
      "text/plain": [
       "(9777, 2)"
      ]
     },
     "execution_count": 106,
     "metadata": {},
     "output_type": "execute_result"
    }
   ],
   "source": [
    "from sklearn.decomposition import PCA\n",
    "\n",
    "pca = PCA(n_components=2)\n",
    "xtrain = pca.fit_transform(xtrain)\n",
    "xtest = pca.transform(xtest)\n",
    "xtrain.shape"
   ]
  },
  {
   "cell_type": "code",
   "execution_count": 107,
   "id": "584114bc",
   "metadata": {},
   "outputs": [
    {
     "data": {
      "text/plain": [
       "0.29017203460092833"
      ]
     },
     "execution_count": 107,
     "metadata": {},
     "output_type": "execute_result"
    }
   ],
   "source": [
    "sum(pca.explained_variance_ratio_)"
   ]
  },
  {
   "cell_type": "code",
   "execution_count": 108,
   "id": "26d6075f",
   "metadata": {},
   "outputs": [
    {
     "name": "stderr",
     "output_type": "stream",
     "text": [
      "C:\\ProgramData\\anaconda3\\Lib\\site-packages\\sklearn\\cluster\\_kmeans.py:1412: FutureWarning: The default value of `n_init` will change from 10 to 'auto' in 1.4. Set the value of `n_init` explicitly to suppress the warning\n",
      "  super()._check_params_vs_input(X, default_n_init=10)\n",
      "C:\\ProgramData\\anaconda3\\Lib\\site-packages\\sklearn\\cluster\\_kmeans.py:1412: FutureWarning: The default value of `n_init` will change from 10 to 'auto' in 1.4. Set the value of `n_init` explicitly to suppress the warning\n",
      "  super()._check_params_vs_input(X, default_n_init=10)\n",
      "C:\\ProgramData\\anaconda3\\Lib\\site-packages\\sklearn\\cluster\\_kmeans.py:1412: FutureWarning: The default value of `n_init` will change from 10 to 'auto' in 1.4. Set the value of `n_init` explicitly to suppress the warning\n",
      "  super()._check_params_vs_input(X, default_n_init=10)\n",
      "C:\\ProgramData\\anaconda3\\Lib\\site-packages\\sklearn\\cluster\\_kmeans.py:1412: FutureWarning: The default value of `n_init` will change from 10 to 'auto' in 1.4. Set the value of `n_init` explicitly to suppress the warning\n",
      "  super()._check_params_vs_input(X, default_n_init=10)\n",
      "C:\\ProgramData\\anaconda3\\Lib\\site-packages\\sklearn\\cluster\\_kmeans.py:1412: FutureWarning: The default value of `n_init` will change from 10 to 'auto' in 1.4. Set the value of `n_init` explicitly to suppress the warning\n",
      "  super()._check_params_vs_input(X, default_n_init=10)\n",
      "C:\\ProgramData\\anaconda3\\Lib\\site-packages\\sklearn\\cluster\\_kmeans.py:1412: FutureWarning: The default value of `n_init` will change from 10 to 'auto' in 1.4. Set the value of `n_init` explicitly to suppress the warning\n",
      "  super()._check_params_vs_input(X, default_n_init=10)\n",
      "C:\\ProgramData\\anaconda3\\Lib\\site-packages\\sklearn\\cluster\\_kmeans.py:1412: FutureWarning: The default value of `n_init` will change from 10 to 'auto' in 1.4. Set the value of `n_init` explicitly to suppress the warning\n",
      "  super()._check_params_vs_input(X, default_n_init=10)\n",
      "C:\\ProgramData\\anaconda3\\Lib\\site-packages\\sklearn\\cluster\\_kmeans.py:1412: FutureWarning: The default value of `n_init` will change from 10 to 'auto' in 1.4. Set the value of `n_init` explicitly to suppress the warning\n",
      "  super()._check_params_vs_input(X, default_n_init=10)\n",
      "C:\\ProgramData\\anaconda3\\Lib\\site-packages\\sklearn\\cluster\\_kmeans.py:1412: FutureWarning: The default value of `n_init` will change from 10 to 'auto' in 1.4. Set the value of `n_init` explicitly to suppress the warning\n",
      "  super()._check_params_vs_input(X, default_n_init=10)\n",
      "C:\\ProgramData\\anaconda3\\Lib\\site-packages\\sklearn\\cluster\\_kmeans.py:1412: FutureWarning: The default value of `n_init` will change from 10 to 'auto' in 1.4. Set the value of `n_init` explicitly to suppress the warning\n",
      "  super()._check_params_vs_input(X, default_n_init=10)\n"
     ]
    },
    {
     "data": {
      "text/plain": [
       "[11396.019095365094,\n",
       " 9862.043910080889,\n",
       " 8587.48965676568,\n",
       " 7852.2945720162425,\n",
       " 7427.058588807175,\n",
       " 7111.550039198126,\n",
       " 6837.999115307767,\n",
       " 6628.689176454702,\n",
       " 6445.1254110983955,\n",
       " 6287.05939845586]"
      ]
     },
     "execution_count": 108,
     "metadata": {},
     "output_type": "execute_result"
    }
   ],
   "source": [
    "from sklearn.cluster import KMeans\n",
    "\n",
    "wcss_list = []\n",
    "\n",
    "for i in range(1,11):\n",
    "    model = KMeans(n_clusters=i)\n",
    "    model.fit(x)\n",
    "    wcss = model.inertia_   #calculating wcss\n",
    "    wcss_list.append(wcss)\n",
    "    \n",
    "wcss_list"
   ]
  },
  {
   "cell_type": "code",
   "execution_count": 109,
   "id": "9754254b",
   "metadata": {},
   "outputs": [
    {
     "data": {
      "image/png": "[encoded data removed]",
      "text/plain": [
       "<Figure size 640x480 with 1 Axes>"
      ]
     },
     "metadata": {},
     "output_type": "display_data"
    }
   ],
   "source": [
    "import matplotlib.pyplot as plt\n",
    "\n",
    "plt.plot(range(1,11), wcss_list)\n",
    "plt.title('Elbow Method Graph')\n",
    "plt.xlabel('Number of Clusters')\n",
    "plt.ylabel('WCSS')\n",
    "plt.show()"
   ]
  },
  {
   "cell_type": "code",
   "execution_count": 110,
   "id": "753965b3",
   "metadata": {},
   "outputs": [
    {
     "name": "stderr",
     "output_type": "stream",
     "text": [
      "C:\\ProgramData\\anaconda3\\Lib\\site-packages\\sklearn\\cluster\\_kmeans.py:1412: FutureWarning: The default value of `n_init` will change from 10 to 'auto' in 1.4. Set the value of `n_init` explicitly to suppress the warning\n",
      "  super()._check_params_vs_input(X, default_n_init=10)\n"
     ]
    },
    {
     "data": {
      "text/plain": [
       "array([2, 1, 3, 1, 3])"
      ]
     },
     "execution_count": 110,
     "metadata": {},
     "output_type": "execute_result"
    }
   ],
   "source": [
    "model = KMeans(n_clusters=4)\n",
    "model.fit(xtrain)\n",
    "pred = model.predict(xtest)\n",
    "pred[:5]"
   ]
  },
  {
   "cell_type": "code",
   "execution_count": 111,
   "id": "c6e3a493",
   "metadata": {},
   "outputs": [
    {
     "data": {
      "image/png": "[encoded data removed]",
      "text/plain": [
       "<Figure size 640x480 with 1 Axes>"
      ]
     },
     "metadata": {},
     "output_type": "display_data"
    }
   ],
   "source": [
    "plt.scatter(xtest[pred==0, 0], xtest[pred==0, 1],\n",
    "           s=100, c='red', label='Cluster 1')\n",
    "plt.scatter(xtest[pred==1, 0], xtest[pred==1, 1],\n",
    "           s=100, c='green', label='Cluster 2')\n",
    "plt.scatter(xtest[pred==2, 0], xtest[pred==2, 1],\n",
    "           s=100, c='blue', label='Cluster 3')\n",
    "plt.scatter(xtest[pred==3, 0], xtest[pred==3, 1],\n",
    "           s=100, c='cyan', label='Cluster 4')\n",
    "plt.scatter(model.cluster_centers_[:, 0], \n",
    "            model.cluster_centers_[:,1] ,\n",
    "           s=200, c='yellow', label='Cluster Centers')\n",
    "plt.title('Cluster of Budget')\n",
    "plt.xlabel('Principal Component 1')\n",
    "plt.ylabel('Principal Component 2')\n",
    "plt.legend()\n",
    "plt.show()"
   ]
  },
  {
   "cell_type": "code",
   "execution_count": null,
   "id": "2215c41e",
   "metadata": {},
   "outputs": [],
   "source": []
  }
 ],
 "metadata": {
  "kernelspec": {
   "display_name": "Python 3 (ipykernel)",
   "language": "python",
   "name": "python3"
  },
  "language_info": {
   "codemirror_mode": {
    "name": "ipython",
    "version": 3
   },
   "file_extension": ".py",
   "mimetype": "text/x-python",
   "name": "python",
   "nbconvert_exporter": "python",
   "pygments_lexer": "ipython3",
   "version": "3.11.4"
  }
 },
 "nbformat": 4,
 "nbformat_minor": 5
}
